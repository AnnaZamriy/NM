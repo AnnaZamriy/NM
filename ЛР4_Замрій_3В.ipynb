{
  "nbformat": 4,
  "nbformat_minor": 0,
  "metadata": {
    "colab": {
      "provenance": [],
      "authorship_tag": "ABX9TyNB73jwxhFNnRbiUEm7kOr8",
      "include_colab_link": true
    },
    "kernelspec": {
      "name": "python3",
      "display_name": "Python 3"
    },
    "language_info": {
      "name": "python"
    }
  },
  "cells": [
    {
      "cell_type": "markdown",
      "metadata": {
        "id": "view-in-github",
        "colab_type": "text"
      },
      "source": [
        "<a href=\"https://colab.research.google.com/github/AnnaZamriy/NM/blob/main/%D0%9B%D0%A04_%D0%97%D0%B0%D0%BC%D1%80%D1%96%D0%B9_3%D0%92.ipynb\" target=\"_parent\"><img src=\"https://colab.research.google.com/assets/colab-badge.svg\" alt=\"Open In Colab\"/></a>"
      ]
    },
    {
      "cell_type": "code",
      "execution_count": null,
      "metadata": {
        "id": "LMqxM927M3D3"
      },
      "outputs": [],
      "source": [
        "Замрій Анна, була присутня на парі"
      ]
    },
    {
      "cell_type": "code",
      "source": [
        "import numpy as np\n",
        "numpy_version = np.__version__\n",
        "numpy_version"
      ],
      "metadata": {
        "colab": {
          "base_uri": "https://localhost:8080/",
          "height": 36
        },
        "id": "ufqRz7D8NPG_",
        "outputId": "506d18af-e563-4821-dd6d-2c7d0303a57b"
      },
      "execution_count": 1,
      "outputs": [
        {
          "output_type": "execute_result",
          "data": {
            "text/plain": [
              "'2.0.2'"
            ],
            "application/vnd.google.colaboratory.intrinsic+json": {
              "type": "string"
            }
          },
          "metadata": {},
          "execution_count": 1
        }
      ]
    },
    {
      "cell_type": "markdown",
      "source": [
        "Створити матрицю 3х3 і заповнити випадковими числами від 1 до 5"
      ],
      "metadata": {
        "id": "p5lT6eiwNjrO"
      }
    },
    {
      "cell_type": "code",
      "source": [
        "matrix = np.random.randint(1, 6, size=(3, 3))\n",
        "matrix"
      ],
      "metadata": {
        "colab": {
          "base_uri": "https://localhost:8080/"
        },
        "id": "02qWn-s-NeXG",
        "outputId": "b9ec2dbd-d99c-41af-a4e5-ee30c7423662"
      },
      "execution_count": 4,
      "outputs": [
        {
          "output_type": "execute_result",
          "data": {
            "text/plain": [
              "array([[3, 2, 5],\n",
              "       [1, 3, 2],\n",
              "       [2, 2, 4]])"
            ]
          },
          "metadata": {},
          "execution_count": 4
        }
      ]
    },
    {
      "cell_type": "markdown",
      "source": [
        "2.Обчислити визначник матриці"
      ],
      "metadata": {
        "id": "BI2Hh836OmpG"
      }
    },
    {
      "cell_type": "code",
      "source": [
        "det = np.linalg.det(matrix)\n",
        "det"
      ],
      "metadata": {
        "colab": {
          "base_uri": "https://localhost:8080/"
        },
        "id": "XqSxl_ajOWCn",
        "outputId": "532f1a05-00f5-4934-c62f-9e9a7bb2e0cf"
      },
      "execution_count": 5,
      "outputs": [
        {
          "output_type": "execute_result",
          "data": {
            "text/plain": [
              "np.float64(4.000000000000003)"
            ]
          },
          "metadata": {},
          "execution_count": 5
        }
      ]
    },
    {
      "cell_type": "markdown",
      "source": [
        "3. Знайти добуток елементів"
      ],
      "metadata": {
        "id": "sQ6Dx18wOvGW"
      }
    },
    {
      "cell_type": "code",
      "source": [
        "product = np.prod(matrix)\n",
        "product"
      ],
      "metadata": {
        "colab": {
          "base_uri": "https://localhost:8080/"
        },
        "id": "UVvOvaqoOi4u",
        "outputId": "9caf98ea-635b-4ef9-9be8-a9fbf8081b5f"
      },
      "execution_count": 6,
      "outputs": [
        {
          "output_type": "execute_result",
          "data": {
            "text/plain": [
              "np.int64(2880)"
            ]
          },
          "metadata": {},
          "execution_count": 6
        }
      ]
    },
    {
      "cell_type": "code",
      "source": [
        "prod_1 = np.prod(matrix[0])\n",
        "prod_2 = np.prod(matrix[1])\n",
        "prod_3 = np.prod(matrix[2])\n",
        "prod_1*prod_2*prod_3\n"
      ],
      "metadata": {
        "colab": {
          "base_uri": "https://localhost:8080/"
        },
        "id": "3EzTSSjdOem2",
        "outputId": "a8edd203-5554-4ac4-95b1-ddfce32b3880"
      },
      "execution_count": 7,
      "outputs": [
        {
          "output_type": "execute_result",
          "data": {
            "text/plain": [
              "np.int64(2880)"
            ]
          },
          "metadata": {},
          "execution_count": 7
        }
      ]
    },
    {
      "cell_type": "markdown",
      "source": [
        "4.Знайти суму елементів, мінімум, максимум і середнє значення"
      ],
      "metadata": {
        "id": "gPY3L7v5PQvP"
      }
    },
    {
      "cell_type": "code",
      "source": [
        "np.sum(matrix)"
      ],
      "metadata": {
        "colab": {
          "base_uri": "https://localhost:8080/"
        },
        "id": "T5fFUEmhPRF3",
        "outputId": "c6899ff1-69f6-4621-9a3c-7feb35a0fba3"
      },
      "execution_count": 8,
      "outputs": [
        {
          "output_type": "execute_result",
          "data": {
            "text/plain": [
              "np.int64(24)"
            ]
          },
          "metadata": {},
          "execution_count": 8
        }
      ]
    },
    {
      "cell_type": "code",
      "source": [
        "np.max(matrix)"
      ],
      "metadata": {
        "colab": {
          "base_uri": "https://localhost:8080/"
        },
        "id": "yjDHMFB7PsJO",
        "outputId": "f58f738b-e8d9-4660-deaa-d966eb79c2f4"
      },
      "execution_count": 9,
      "outputs": [
        {
          "output_type": "execute_result",
          "data": {
            "text/plain": [
              "np.int64(5)"
            ]
          },
          "metadata": {},
          "execution_count": 9
        }
      ]
    },
    {
      "cell_type": "code",
      "source": [
        "np.min(matrix)"
      ],
      "metadata": {
        "colab": {
          "base_uri": "https://localhost:8080/"
        },
        "id": "m_0gNoptP7ym",
        "outputId": "dd9073b1-8e3e-4210-f3b6-f164c6bdb487"
      },
      "execution_count": 10,
      "outputs": [
        {
          "output_type": "execute_result",
          "data": {
            "text/plain": [
              "np.int64(1)"
            ]
          },
          "metadata": {},
          "execution_count": 10
        }
      ]
    },
    {
      "cell_type": "code",
      "source": [
        "mean = np.mean(matrix)\n",
        "print(mean)"
      ],
      "metadata": {
        "colab": {
          "base_uri": "https://localhost:8080/"
        },
        "id": "tvK5BbuAP_4u",
        "outputId": "7fbcb427-8e1a-4029-dd34-853ba3eca028"
      },
      "execution_count": 12,
      "outputs": [
        {
          "output_type": "stream",
          "name": "stdout",
          "text": [
            "2.6666666666666665\n"
          ]
        }
      ]
    },
    {
      "cell_type": "markdown",
      "source": [
        "5.Обчислити матрицю квадратних коренів"
      ],
      "metadata": {
        "id": "3PbWIbNSPecO"
      }
    },
    {
      "cell_type": "code",
      "source": [
        "sqrt_matrix = np.sqrt(matrix)\n",
        "print(sqrt_matrix)"
      ],
      "metadata": {
        "colab": {
          "base_uri": "https://localhost:8080/"
        },
        "id": "V_VIqtD6RZ1-",
        "outputId": "c4aec245-c5fd-4646-a543-2f84845ead39"
      },
      "execution_count": 21,
      "outputs": [
        {
          "output_type": "stream",
          "name": "stdout",
          "text": [
            "[[1.73205081 1.41421356 2.23606798]\n",
            " [1.         1.73205081 1.41421356]\n",
            " [1.41421356 1.41421356 2.        ]]\n"
          ]
        }
      ]
    },
    {
      "cell_type": "markdown",
      "source": [
        "6.Обчислити суму елементів кожного рядка\n"
      ],
      "metadata": {
        "id": "xBaVI5tpRFsG"
      }
    },
    {
      "cell_type": "code",
      "source": [
        "row_sum = np.sum(matrix, axis=-1).reshape(-1, 1)\n",
        "print(row_sum)"
      ],
      "metadata": {
        "colab": {
          "base_uri": "https://localhost:8080/"
        },
        "id": "O07AlpgDPnRu",
        "outputId": "da449ad0-15ff-4245-9563-c14c192a3cfe"
      },
      "execution_count": 15,
      "outputs": [
        {
          "output_type": "stream",
          "name": "stdout",
          "text": [
            "[[10]\n",
            " [ 6]\n",
            " [ 8]]\n"
          ]
        }
      ]
    },
    {
      "cell_type": "code",
      "source": [
        "matrix.sum(axis=1).reshape(-1,1)"
      ],
      "metadata": {
        "colab": {
          "base_uri": "https://localhost:8080/"
        },
        "id": "U6sOiKXQRTee",
        "outputId": "14674805-175e-4118-972d-cdc5221a2241"
      },
      "execution_count": 16,
      "outputs": [
        {
          "output_type": "execute_result",
          "data": {
            "text/plain": [
              "array([[10],\n",
              "       [ 6],\n",
              "       [ 8]])"
            ]
          },
          "metadata": {},
          "execution_count": 16
        }
      ]
    },
    {
      "cell_type": "code",
      "source": [
        "x = np.matrix([[1, 2], [3, 4]])\n",
        "x"
      ],
      "metadata": {
        "colab": {
          "base_uri": "https://localhost:8080/"
        },
        "id": "uBEUWar3SNRP",
        "outputId": "50a502f0-3762-4810-f277-dcf54be4b0b8"
      },
      "execution_count": 17,
      "outputs": [
        {
          "output_type": "execute_result",
          "data": {
            "text/plain": [
              "matrix([[1, 2],\n",
              "        [3, 4]])"
            ]
          },
          "metadata": {},
          "execution_count": 17
        }
      ]
    },
    {
      "cell_type": "code",
      "source": [
        "x.sum(axis=1)"
      ],
      "metadata": {
        "colab": {
          "base_uri": "https://localhost:8080/"
        },
        "id": "oCIDAJgFSYyO",
        "outputId": "424df43d-1470-47ae-bf4c-167bd15de82f"
      },
      "execution_count": 20,
      "outputs": [
        {
          "output_type": "execute_result",
          "data": {
            "text/plain": [
              "matrix([[3],\n",
              "        [7]])"
            ]
          },
          "metadata": {},
          "execution_count": 20
        }
      ]
    },
    {
      "cell_type": "markdown",
      "source": [
        "7.Створення вектора з 25 елементів від 0 до 9 і сортування чисел за спаданням"
      ],
      "metadata": {
        "id": "P6ShQfdzSxcG"
      }
    },
    {
      "cell_type": "code",
      "source": [
        "vector = np.random.randint(0, 10, size=25)\n",
        "vector"
      ],
      "metadata": {
        "colab": {
          "base_uri": "https://localhost:8080/"
        },
        "id": "38omDa7dSxru",
        "outputId": "5bf2be84-2ace-43cc-d47d-69b0ae6e6eb7"
      },
      "execution_count": 22,
      "outputs": [
        {
          "output_type": "execute_result",
          "data": {
            "text/plain": [
              "array([7, 6, 4, 4, 7, 3, 8, 4, 7, 2, 1, 8, 9, 1, 5, 7, 1, 4, 6, 2, 7, 1,\n",
              "       8, 9, 3])"
            ]
          },
          "metadata": {},
          "execution_count": 22
        }
      ]
    },
    {
      "cell_type": "code",
      "source": [
        "#Відсортуємо за спаданням\n",
        "sorted_vector = np.sort(vector)[::-1]\n",
        "sorted_vector"
      ],
      "metadata": {
        "colab": {
          "base_uri": "https://localhost:8080/"
        },
        "id": "YIOkPxbHTAuO",
        "outputId": "58e3f6b2-95d7-4779-fb16-1ce6590b4c70"
      },
      "execution_count": 23,
      "outputs": [
        {
          "output_type": "execute_result",
          "data": {
            "text/plain": [
              "array([9, 9, 8, 8, 8, 7, 7, 7, 7, 7, 6, 6, 5, 4, 4, 4, 4, 3, 3, 2, 2, 1,\n",
              "       1, 1, 1])"
            ]
          },
          "metadata": {},
          "execution_count": 23
        }
      ]
    },
    {
      "cell_type": "markdown",
      "source": [
        "![image.png](data:image/png;base64,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)"
      ],
      "metadata": {
        "id": "qGqAD3-JUDk2"
      }
    },
    {
      "cell_type": "code",
      "source": [
        "import numpy as np\n",
        "a = np.array([\n",
        "    [3, -5, 3],\n",
        "    [1, 2, 1],\n",
        "    [2, 2, -1],\n",
        "])\n",
        "b = np.array([[1], [4], [8]])"
      ],
      "metadata": {
        "id": "4Nk-VRK7UEzf"
      },
      "execution_count": 24,
      "outputs": []
    },
    {
      "cell_type": "code",
      "source": [
        "#Матричний метод (1 спосіб)\n",
        "det_a = np.linalg.det(a)\n",
        "if det_a == 0:\n",
        "    print(\"Визначник дорівнює нулю - рішень немає\")\n",
        "else:\n",
        "  a_inv = np.linalg.inv(a)\n",
        "  print(f\"Обернена матриця до матриці A: \\r\\n {a_inv }\")\n",
        "  print(f\"Вектор рішення: \\r\\n {a_inv.dot(b)}\")"
      ],
      "metadata": {
        "colab": {
          "base_uri": "https://localhost:8080/"
        },
        "id": "dxUVwX_UUgg3",
        "outputId": "367424de-ff01-4503-d1b0-89fe8ea93bdb"
      },
      "execution_count": 25,
      "outputs": [
        {
          "output_type": "stream",
          "name": "stdout",
          "text": [
            "Обернена матриця до матриці A: \r\n",
            " [[ 0.12121212 -0.03030303  0.33333333]\n",
            " [-0.09090909  0.27272727  0.        ]\n",
            " [ 0.06060606  0.48484848 -0.33333333]]\n",
            "Вектор рішення: \r\n",
            " [[ 2.66666667]\n",
            " [ 1.        ]\n",
            " [-0.66666667]]\n"
          ]
        }
      ]
    },
    {
      "cell_type": "code",
      "source": [
        "#метод Крамера (1 спосіб)\n",
        "# Метод Крамера\n",
        "det_a = np.linalg.det(a)\n",
        "\n",
        "if det_a == 0:\n",
        "    print(\"Визначник дорівнює нулю — система не має єдиного розв’язку.\")\n",
        "else:\n",
        "    def replace_column(matrix, column_index, new_column):\n",
        "        new_matrix = np.copy(matrix)\n",
        "        new_matrix[:, column_index] = new_column\n",
        "        return new_matrix\n",
        "\n",
        "    # Обчислюємо Δx, Δy, Δz\n",
        "    delta_x = np.linalg.det(replace_column(a, 0, b.T))\n",
        "    delta_y = np.linalg.det(replace_column(a, 1, b.T))\n",
        "    delta_z = np.linalg.det(replace_column(a, 2, b.T))\n",
        "\n",
        "    # Обчислюємо x, y, z\n",
        "    print('x =', delta_x / det_a)\n",
        "    print('y =', delta_y / det_a)\n",
        "    print('z =', delta_z / det_a)\n",
        "\n"
      ],
      "metadata": {
        "colab": {
          "base_uri": "https://localhost:8080/"
        },
        "id": "fs9Z5SHhVFcu",
        "outputId": "f834b4b5-e479-46d3-a805-7db831460376"
      },
      "execution_count": 27,
      "outputs": [
        {
          "output_type": "stream",
          "name": "stdout",
          "text": [
            "x = 2.6666666666666643\n",
            "y = 1.0\n",
            "z = -0.6666666666666663\n"
          ]
        }
      ]
    },
    {
      "cell_type": "code",
      "source": [
        "x = np.linalg.solve(a, b)\n",
        "\n",
        "print(x)"
      ],
      "metadata": {
        "colab": {
          "base_uri": "https://localhost:8080/"
        },
        "id": "nZvb2tvMVKLe",
        "outputId": "f6297c2c-966c-4778-f173-3a5ed672dd1d"
      },
      "execution_count": 29,
      "outputs": [
        {
          "output_type": "stream",
          "name": "stdout",
          "text": [
            "[[ 2.66666667]\n",
            " [ 1.        ]\n",
            " [-0.66666667]]\n"
          ]
        }
      ]
    }
  ]
}