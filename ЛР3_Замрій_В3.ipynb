{
  "nbformat": 4,
  "nbformat_minor": 0,
  "metadata": {
    "colab": {
      "provenance": [],
      "include_colab_link": true
    },
    "kernelspec": {
      "name": "python3",
      "display_name": "Python 3"
    },
    "language_info": {
      "name": "python"
    }
  },
  "cells": [
    {
      "cell_type": "markdown",
      "metadata": {
        "id": "view-in-github",
        "colab_type": "text"
      },
      "source": [
        "<a href=\"https://colab.research.google.com/github/AnnaZamriy/NM/blob/main/%D0%9B%D0%A03_%D0%97%D0%B0%D0%BC%D1%80%D1%96%D0%B9_%D0%923.ipynb\" target=\"_parent\"><img src=\"https://colab.research.google.com/assets/colab-badge.svg\" alt=\"Open In Colab\"/></a>"
      ]
    },
    {
      "cell_type": "markdown",
      "source": [
        "Замрій Анна Варіант 3"
      ],
      "metadata": {
        "id": "HlvFbYQzhdIu"
      }
    },
    {
      "cell_type": "markdown",
      "source": [
        "1. Метод ділення навпіл."
      ],
      "metadata": {
        "id": "VgrW9zRY0dVt"
      }
    },
    {
      "cell_type": "code",
      "execution_count": null,
      "metadata": {
        "colab": {
          "base_uri": "https://localhost:8080/"
        },
        "id": "iOTNXySVyeHy",
        "outputId": "157e717e-e4f5-4255-9279-a86d2072a7f3"
      },
      "outputs": [
        {
          "output_type": "stream",
          "name": "stdout",
          "text": [
            "Результати обчислень\n",
            "\n",
            "          a      F(a)         c      F(c)       b      F(b)\n",
            "0 -3.000000  0.977954 -2.000000  1.135204 -1.0000 -0.454649\n",
            "1 -2.000000  1.135204 -1.500000 -0.123480 -1.0000 -0.454649\n",
            "2 -2.000000  1.135204 -1.750000  0.405593 -1.5000 -0.123480\n",
            "3 -1.750000  0.405593 -1.625000  0.109040 -1.5000 -0.123480\n",
            "4 -1.625000  0.109040 -1.562500 -0.015587 -1.5000 -0.123480\n",
            "5 -1.625000  0.109040 -1.593750  0.044659 -1.5625 -0.015587\n",
            "6 -1.593750  0.044659 -1.578125  0.014015 -1.5625 -0.015587\n",
            "7 -1.578125  0.014015 -1.570312 -0.000917 -1.5625 -0.015587\n",
            "\n",
            "В точці с =  -1.5703125 , f(c) =  -0.0009171268569415665\n"
          ]
        }
      ],
      "source": [
        "import numpy as np\n",
        "import pandas as pd\n",
        "\n",
        "# Визначаємо функцію\n",
        "def f (x):\n",
        "    y = np.cos(x)*np.sin(x)*(x**2+x+1)\n",
        "    return y\n",
        "# Визначаємо границі відрізку\n",
        "a, b = -3, -1\n",
        "# Визначаємо точність розв'язку\n",
        "eps = 0.001\n",
        "# Поділяємо відрізок навпіл\n",
        "c = (a+b)/2\n",
        "# Зберігаємо результати обчислень\n",
        "data_A = [a]\n",
        "data_B = [b]\n",
        "data_C = [c]\n",
        "data_F_A = [f(a)]\n",
        "data_F_B = [f(b)]\n",
        "data_F_C = [f(c)]\n",
        "# Перевіряємо досягнення точності\n",
        "while np.abs(f(c)) > eps:\n",
        "    # Звужуємо відрізок\n",
        "    if np.sign(f(c)) == np.sign(f(a)):\n",
        "        a = c\n",
        "    else:\n",
        "        b = c\n",
        "    # Поділяємо відрізок навпіл\n",
        "    c = (a+b)/2\n",
        "    # Зберігаємо результати обчислень\n",
        "    data_A.append(a)\n",
        "    data_B.append(b)\n",
        "    data_C.append(c)\n",
        "    data_F_A.append(f(a))\n",
        "    data_F_B.append(f(b))\n",
        "    data_F_C.append(f(c))\n",
        "# Відображаємо результати обчислень\n",
        "print('Результати обчислень')\n",
        "print()\n",
        "data = pd.DataFrame({'a': data_A,\n",
        "                     'F(a)': data_F_A,\n",
        "                     'c': data_C,\n",
        "                     'F(c)': data_F_C,\n",
        "                     'b': data_B,\n",
        "                     'F(b)': data_F_B})\n",
        "print(data)\n",
        "# Відображаємо наближений корінь рівняння\n",
        "print()\n",
        "print('В точці с = ', c, ', f(c) = ', f(c))"
      ]
    },
    {
      "cell_type": "markdown",
      "source": [
        "2. Метод ділення навпіл"
      ],
      "metadata": {
        "id": "5hYa7ucn0PEN"
      }
    },
    {
      "cell_type": "code",
      "source": [
        "import numpy as np\n",
        "import scipy.optimize as sp\n",
        "\n",
        "def f(x):\n",
        "    y = np.cos(x)*np.sin(x)*(x**2+x+1)\n",
        "    return y\n",
        "\n",
        "a, b = -3, -1\n",
        "eps = 1.e-3\n",
        "\n",
        "x = sp.bisect(f, a, b,(),eps) #функція для метода\n",
        "\n",
        "print('The approximate solution x is:', x)\n",
        "print('And the value f(x) is:', f(x))"
      ],
      "metadata": {
        "colab": {
          "base_uri": "https://localhost:8080/"
        },
        "id": "ML3KEw5q0H1e",
        "outputId": "bdc8a603-0692-4ccd-ca90-e1b0e6ad9332"
      },
      "execution_count": null,
      "outputs": [
        {
          "output_type": "stream",
          "name": "stdout",
          "text": [
            "The approximate solution x is: -1.5712890625\n",
            "And the value f(x) is: 0.0009350448126615916\n"
          ]
        }
      ]
    },
    {
      "cell_type": "markdown",
      "source": [
        "3. Метод хорд"
      ],
      "metadata": {
        "id": "sYf0IvR41ufd"
      }
    },
    {
      "cell_type": "code",
      "source": [
        "import numpy as np\n",
        "import pandas as pd\n",
        "# Визначаємо функцію\n",
        "def f(x):\n",
        "    y = np.cos(x)*np.sin(x)*(x**2+x+1)\n",
        "    return y\n",
        "# Визначаємо межі відрізку\n",
        "a, b = -3, -1\n",
        "# Визначаємо точність розв'язку\n",
        "eps = 0.001\n",
        "# Точка, де хорда перетинає вісь 0x\n",
        "c = (f(a)*b-a*f(b))/(f(a)-f(b))\n",
        "\n",
        "# Зберігаємо результати обчислень\n",
        "data_A = [a]\n",
        "data_B = [b]\n",
        "data_C = [c]\n",
        "data_F_A = [f(a)]\n",
        "data_F_B = [f(b)]\n",
        "data_F_C = [f(c)]\n",
        "# Перевіряємо досягнення точності\n",
        "while np.abs(f(c)) > eps:\n",
        "    # Звужуємо відрізок\n",
        "    if np.sign(f(c)) == np.sign(f(a)):\n",
        "        a = c\n",
        "    else:\n",
        "        b = c\n",
        "    # Точка, де хорда перетинає вісь 0x\n",
        "    c = (f(a)*b-a*f(b))/(f(a)-f(b))\n",
        "    # Зберігаємо результати обчислень\n",
        "    data_A.append(a)\n",
        "    data_B.append(b)\n",
        "    data_C.append(c)\n",
        "    data_F_A.append(f(a))\n",
        "    data_F_B.append(f(b))\n",
        "    data_F_C.append(f(c))\n",
        "# Відображаємо результати обчислень\n",
        "print('Результати обчислень')\n",
        "print()\n",
        "data = pd.DataFrame({'a': data_A, 'F(a)': data_F_A,\n",
        "                     'c': data_C, 'F(c)': data_F_C,\n",
        "                     'b': data_B, 'F(b)': data_F_B})\n",
        "print(data)\n",
        "# Відображаємо наближений корінь рівняння\n",
        "print()\n",
        "print('В точці с = ', c, ', f(c) = ', f(c))"
      ],
      "metadata": {
        "colab": {
          "base_uri": "https://localhost:8080/"
        },
        "id": "3p6i5xHK1y3l",
        "outputId": "59afade8-804f-4f8a-ca1c-23e822802055"
      },
      "execution_count": null,
      "outputs": [
        {
          "output_type": "stream",
          "name": "stdout",
          "text": [
            "Результати обчислень\n",
            "\n",
            "          a      F(a)         c      F(c)         b      F(b)\n",
            "0 -3.000000  0.977954 -1.634717  0.129889 -1.000000 -0.454649\n",
            "1 -1.634717  0.129889 -1.493678 -0.133455 -1.000000 -0.454649\n",
            "2 -1.634717  0.129889 -1.565152 -0.010636 -1.493678 -0.133455\n",
            "3 -1.634717  0.129889 -1.570418 -0.000718 -1.565152 -0.010636\n",
            "\n",
            "В точці с =  -1.5704175737258015 , f(c) =  -0.0007180376446871882\n"
          ]
        }
      ]
    },
    {
      "cell_type": "markdown",
      "source": [
        "4. Метод Ньютона (дотичних)"
      ],
      "metadata": {
        "id": "40blPBSK2Cdm"
      }
    },
    {
      "cell_type": "code",
      "source": [
        "import numpy as np\n",
        "import pandas as pd\n",
        "# Визначаємо функцію\n",
        "def f(x):\n",
        "    y = np.cos(x)*np.sin(x)*(x**2+x+1)\n",
        "    return y\n",
        "# Визначаємо першу похідну\n",
        "def df(x):\n",
        "    y1 = -(x**2+x+1)*(np.sin(x))**2\n",
        "    y2 = (x**2+x+1)*(np.cos(x))**2\n",
        "    y3 = (2*x+1)*np.sin(x)*np.cos(x)\n",
        "    y = y1+y2+y3\n",
        "    return y\n",
        "# Визначаємо початкову точку\n",
        "c = -1.4\n",
        "# Визначаємо точність розв'язку\n",
        "eps = 0.001\n",
        "# Зберігаємо результати обчислень\n",
        "data_C = [c]\n",
        "data_F_C = [f(c)]\n",
        "# Перевіряємо досягнення точності\n",
        "while np.abs(f(c)) > eps:\n",
        "    # Точка, де дотична перетинає вісь 0x\n",
        "    c -= f(c)/df(c)\n",
        "    # Зберігаємо результати обчислень\n",
        "    data_C.append(c)\n",
        "    data_F_C.append(f(c))\n",
        "# Відображаємо результати обчислень\n",
        "print('Результати обчислень')\n",
        "print()\n",
        "data = pd.DataFrame({'c': data_C, 'F(c)': data_F_C})\n",
        "print(data)\n",
        "# Відображаємо наближений корінь рівняння\n",
        "print()\n",
        "print('В точці с = ', c, ', f(c) = ', f(c))"
      ],
      "metadata": {
        "colab": {
          "base_uri": "https://localhost:8080/"
        },
        "id": "WeGQjbjW2HDz",
        "outputId": "75c34dc7-93cf-4f2f-b291-3690af301f88"
      },
      "execution_count": null,
      "outputs": [
        {
          "output_type": "stream",
          "name": "stdout",
          "text": [
            "Результати обчислень\n",
            "\n",
            "          c      F(c)\n",
            "0 -1.400000 -0.261291\n",
            "1 -1.623636  0.106144\n",
            "2 -1.573564  0.005266\n",
            "3 -1.570805  0.000016\n",
            "\n",
            "В точці с =  -1.5708049170979717 , f(c) =  1.6292567852764437e-05\n"
          ]
        }
      ]
    },
    {
      "cell_type": "markdown",
      "source": [
        "5. Метод Ньютона (дотичних)"
      ],
      "metadata": {
        "id": "qjI38bTp0xCo"
      }
    },
    {
      "cell_type": "code",
      "source": [
        "import numpy as np\n",
        "import scipy.optimize as sp\n",
        "\n",
        "def f(x):\n",
        "    y = np.cos(x)*np.sin(x)*(x**2+x+1)\n",
        "    return y\n",
        "\n",
        "def df(x):# Обчислення похідної\n",
        "    y1 = -(x**2+x+1)*(np.sin(x))**2\n",
        "    y2 = (x**2+x+1)*(np.cos(x))**2\n",
        "    y3 = (2*x+1)*np.sin(x)*np.cos(x)\n",
        "    y = y1+y2+y3\n",
        "    return y\n",
        "\n",
        "x0 = -1.4\n",
        "x1 = 1.4\n",
        "\n",
        "x_0 = sp.newton(f, x0, df, tol=1.e-3, maxiter=50)\n",
        "x_1 = sp.newton(f, x1, df, tol=1.e-3, maxiter=50)\n",
        "\n",
        "print('The approximate solution x is:', x_0)\n",
        "print('And the value f(x_0) is:', f(x_0))\n",
        "\n",
        "print('The approximate solution x is:', x_1)\n",
        "print('And the value f(x_0) is:', f(x_1))"
      ],
      "metadata": {
        "colab": {
          "base_uri": "https://localhost:8080/"
        },
        "id": "AonZxq_H0m6-",
        "outputId": "adafc469-5ab5-4d06-ad54-ca4ae493f1fa"
      },
      "execution_count": null,
      "outputs": [
        {
          "output_type": "stream",
          "name": "stdout",
          "text": [
            "The approximate solution x is: -1.5707963268782201\n",
            "And the value f(x_0) is: 1.5803176499052036e-10\n",
            "The approximate solution x is: 1.5707963267958693\n",
            "And the value f(x_0) is: -4.9007361645997675e-12\n"
          ]
        }
      ]
    },
    {
      "cell_type": "markdown",
      "source": [
        " # Знаходження коренів рівняння за допомогою бібліотеки SymPy"
      ],
      "metadata": {
        "id": "pvK9N9TH1QD-"
      }
    },
    {
      "cell_type": "code",
      "source": [
        "import sympy as sym\n",
        "\n",
        "x = sym.Symbol('x')\n",
        "\n",
        "y = sym.cos(x)*sym.sin(x)*(x**2+x+1)\n",
        "\n",
        "s = sym.solve(y)\n",
        "\n",
        "print(s)"
      ],
      "metadata": {
        "colab": {
          "base_uri": "https://localhost:8080/"
        },
        "id": "PuAp1WCr08qt",
        "outputId": "36c578b1-b0b4-40d5-8142-44bf252e747d"
      },
      "execution_count": null,
      "outputs": [
        {
          "output_type": "stream",
          "name": "stdout",
          "text": [
            "[0, pi/2, pi, 3*pi/2, -1/2 - sqrt(3)*I/2, -1/2 + sqrt(3)*I/2]\n"
          ]
        }
      ]
    },
    {
      "cell_type": "code",
      "source": [
        "import sympy as sym\n",
        "\n",
        "x, a, b, c = sym.symbols('x, a, b, c')\n",
        "\n",
        "y = a * x**2 + b * x + c\n",
        "\n",
        "s = sym.solve(y, x)\n",
        "\n",
        "print(s)"
      ],
      "metadata": {
        "colab": {
          "base_uri": "https://localhost:8080/"
        },
        "id": "Y0d-uHtp1c7r",
        "outputId": "42a681c2-3c44-4db2-dbe7-7c1615e9bbe9"
      },
      "execution_count": null,
      "outputs": [
        {
          "output_type": "stream",
          "name": "stdout",
          "text": [
            "[(-b - sqrt(-4*a*c + b**2))/(2*a), (-b + sqrt(-4*a*c + b**2))/(2*a)]\n"
          ]
        }
      ]
    },
    {
      "cell_type": "markdown",
      "source": [],
      "metadata": {
        "id": "mk1oBvYj1GC2"
      }
    },
    {
      "cell_type": "code",
      "source": [
        "!pip install numdifftools"
      ],
      "metadata": {
        "colab": {
          "base_uri": "https://localhost:8080/"
        },
        "id": "yiLJNuM3Cq0-",
        "outputId": "d6ce1578-feaa-49e1-b150-fde11f57c357"
      },
      "execution_count": 1,
      "outputs": [
        {
          "output_type": "stream",
          "name": "stdout",
          "text": [
            "Collecting numdifftools\n",
            "  Downloading numdifftools-0.9.41-py2.py3-none-any.whl.metadata (39 kB)\n",
            "Requirement already satisfied: numpy>=1.9 in /usr/local/lib/python3.12/dist-packages (from numdifftools) (2.0.2)\n",
            "Requirement already satisfied: scipy>=0.8 in /usr/local/lib/python3.12/dist-packages (from numdifftools) (1.16.1)\n",
            "Downloading numdifftools-0.9.41-py2.py3-none-any.whl (100 kB)\n",
            "\u001b[2K   \u001b[90m━━━━━━━━━━━━━━━━━━━━━━━━━━━━━━━━━━━━━━━━\u001b[0m \u001b[32m100.2/100.2 kB\u001b[0m \u001b[31m8.6 MB/s\u001b[0m eta \u001b[36m0:00:00\u001b[0m\n",
            "\u001b[?25hInstalling collected packages: numdifftools\n",
            "Successfully installed numdifftools-0.9.41\n"
          ]
        }
      ]
    },
    {
      "cell_type": "code",
      "source": [
        "#Лабораторна робота 2\n",
        "#Відокремлення коренів\n",
        "import numpy as np\n",
        "import numdifftools as nd\n",
        "\n",
        "def f(x):\n",
        "    return 6*x**4 + 4*x**3 + x**2 + x - 10\n",
        "\n",
        "\n",
        "def find_segments(): #відокремлюємо корені\n",
        "    search_range = np.arange(-5, 5, 1)\n",
        "\n",
        "    a = None\n",
        "    previous_x = None\n",
        "    current_x  = None\n",
        "    segments = []\n",
        "\n",
        "    for x in search_range:\n",
        "        x = round(x, 4)\n",
        "        current_x = f(x)\n",
        "        if previous_x != None and previous_x * current_x < 0:\n",
        "            segments.append((a, x))\n",
        "        a = x\n",
        "        previous_x = current_x\n",
        "    return segments\n",
        "\n",
        "segments = find_segments()\n",
        "for a, b in segments:\n",
        "    print(f'Found segment:  [{a}, {b}]')\n"
      ],
      "metadata": {
        "colab": {
          "base_uri": "https://localhost:8080/"
        },
        "id": "L-9dn4npCso-",
        "outputId": "e83d1e54-a130-4c0d-af3a-4fee211dc31f"
      },
      "execution_count": 5,
      "outputs": [
        {
          "output_type": "stream",
          "name": "stdout",
          "text": [
            "Found segment:  [-2, -1]\n",
            "Found segment:  [0, 1]\n"
          ]
        }
      ]
    },
    {
      "cell_type": "code",
      "source": [
        "import numpy as np\n",
        "import matplotlib.pyplot as plt\n",
        "\n",
        "# Визначення функції\n",
        "def f(x):\n",
        "    return 6*x**4 + 4*x**3 + x**2 + x - 10\n",
        "\n",
        "# Генерація значень x\n",
        "x = np.linspace(-4, 4, 100)\n",
        "\n",
        "# Генерація значень y\n",
        "y = f(x)\n",
        "\n",
        "# Побудова графіка\n",
        "plt.figure(figsize=(8, 6))\n",
        "plt.plot(x, y, label='6*x**4 + 4*x**3 + x**2 + x - 10', color='blue')\n",
        "plt.title('Графік функції 6*x**4 + 4*x**3 + x**2 + x - 10')\n",
        "plt.xlabel('x')\n",
        "plt.ylabel('f(x)')\n",
        "\n",
        "# Додавання осей з стрілками\n",
        "plt.axhline(0, color='black', linewidth=0.5)\n",
        "plt.axvline(0, color='black', linewidth=0.5)\n",
        "\n",
        "plt.text(2.05, -4, 'x', ha='center', va='center')\n",
        "plt.text(-0.3, 190, 'y', ha='center', va='center')\n",
        "\n",
        "plt.grid(True)\n",
        "plt.legend()\n",
        "plt.show()\n"
      ],
      "metadata": {
        "colab": {
          "base_uri": "https://localhost:8080/",
          "height": 564
        },
        "id": "7zUI3d1xZXar",
        "outputId": "6864e2ad-589c-43fe-b818-8efc83cde244"
      },
      "execution_count": 6,
      "outputs": [
        {
          "output_type": "display_data",
          "data": {
            "text/plain": [
              "<Figure size 800x600 with 1 Axes>"
            ],
            "image/png": "[encoded data removed]"
          },
          "metadata": {}
        }
      ]
    },
    {
      "cell_type": "markdown",
      "source": [
        "![image.png](data:image/png;base64,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)"
      ],
      "metadata": {
        "id": "eyQ8mOBBD0wr"
      }
    },
    {
      "cell_type": "code",
      "source": [
        "#Лабораторна робота. Метод половинного ділення, хорд\n",
        "\n",
        "def rec(a, b, eps):  # метод половинного ділення\n",
        "    while (np.abs(a - b) > eps):\n",
        "        if f(a) * f((a + b) / 2) < 0:\n",
        "            b = (a + b) / 2\n",
        "        else:\n",
        "            a = (a + b) / 2\n",
        "        x = (a + b) / 2\n",
        "\n",
        "    print('x= ', round(x, 5), '  -   Half division method')\n"
      ],
      "metadata": {
        "id": "BgjK94O9Cfxe"
      },
      "execution_count": 7,
      "outputs": []
    },
    {
      "cell_type": "code",
      "source": [
        "def hord(a, b, eps):  # метод хорд\n",
        "    derivative_f = nd.Derivative(f, n=2)\n",
        "    if f(a) * derivative_f(a) > 0:\n",
        "        x0 = a\n",
        "        xi = b\n",
        "    else:\n",
        "        x0 = b\n",
        "        xi = a\n",
        "    xi_1 = xi - (xi - x0) * f(xi) / (f(xi) - f(x0))\n",
        "    while (np.abs(xi_1 - xi) > eps):\n",
        "        xi = xi_1\n",
        "        xi_1 = xi - (xi - x0) * f(xi) / (f(xi) - f(x0))\n",
        "    print('x= ', round(xi_1, 5), '  -   Chord method')\n"
      ],
      "metadata": {
        "id": "Sz_KWVf7D2tL"
      },
      "execution_count": 8,
      "outputs": []
    },
    {
      "cell_type": "code",
      "source": [
        "if __name__ == \"__main__\":\n",
        "    a1, b1 = -2, -1\n",
        "    a2, b2 = 0, 1\n",
        "    eps = 0.001\n",
        "    print(\"Розв'язки на відрізку [-2,-1]\")\n",
        "    rec(a1, b1, eps)\n",
        "    hord(a1, b1, eps)\n",
        "    print(\"\\n Розв'язки на відрізку [0,1]\")\n",
        "    rec(a2, b2, eps)\n",
        "    hord(a2, b2, eps)"
      ],
      "metadata": {
        "id": "upx7R4yoFZj_",
        "outputId": "ebdf005c-9de4-4947-fe98-0d4215b8cf32",
        "colab": {
          "base_uri": "https://localhost:8080/"
        }
      },
      "execution_count": 9,
      "outputs": [
        {
          "output_type": "stream",
          "name": "stdout",
          "text": [
            "Розв'язки на відрізку [-2,-1]\n",
            "x=  -1.33545   -   Half division method\n",
            "x=  -1.3346   -   Chord method\n",
            "\n",
            " Розв'язки на відрізку [0,1]\n",
            "x=  0.94482   -   Half division method\n",
            "x=  0.945   -   Chord method\n"
          ]
        }
      ]
    },
    {
      "cell_type": "code",
      "source": [
        "#Лабораторна робота 3. Метод Ньютона (дотичних). Комбінований метод\n",
        "\n",
        "import numpy as np\n",
        "import numdifftools as nd\n",
        "\n",
        "def f(x):\n",
        "    return 6*x**4 + 4*x**3 + x**2 + x - 10\n",
        "\n",
        "def nuton(a, b, eps, f):\n",
        "    df1 = nd.Derivative(f, n=1)   # створюємо callable для 1-ї похідної\n",
        "    df2 = nd.Derivative(f, n=2)   # і для 2-ї\n",
        "    xi = b if f(b) * df2(b) > 0 else a\n",
        "\n",
        "    xi_1 = xi - f(xi) / df1(xi)\n",
        "    while np.abs(xi_1 - xi) > eps:\n",
        "        xi = xi_1\n",
        "        d = df1(xi)\n",
        "        if d == 0:\n",
        "            raise ZeroDivisionError(\"Похідна дорівнює нулю — зупинка.\")\n",
        "        xi_1 = xi - f(xi) / d\n",
        "\n",
        "    print('Метод Ньютона, x =', round(float(xi_1), 4))"
      ],
      "metadata": {
        "id": "t-FUcU4Fj0-f"
      },
      "execution_count": 10,
      "outputs": []
    },
    {
      "cell_type": "code",
      "source": [
        "def komb(a, b, eps, f):\n",
        "    df2 = nd.Derivative(f, n=2)(a)\n",
        "    if f(a) * df2 > 0:\n",
        "        a0, b0 = a, b\n",
        "    else:\n",
        "        a0, b0 = b, a\n",
        "    ai, bi = a0, b0\n",
        "\n",
        "    while np.abs(ai - bi) > eps:\n",
        "        ai_1 = ai - f(ai) * (bi - ai) / (f(bi) - f(ai))\n",
        "        bi_1 = bi - f(bi) / nd.Derivative(f, n=1)(bi)\n",
        "        ai, bi = ai_1, bi_1\n",
        "\n",
        "    x = (ai_1 + bi_1) / 2\n",
        "\n",
        "    print('Комбінований метод, x = ', x.round(4))\n"
      ],
      "metadata": {
        "id": "M2T4FA4ifyy_"
      },
      "execution_count": 12,
      "outputs": []
    },
    {
      "cell_type": "code",
      "source": [
        "if __name__ == \"__main__\":\n",
        "    a1, b1 = -2, -1\n",
        "    a2, b2 = 0, 1\n",
        "    eps = 0.0001\n",
        "\n",
        "    print(\"Розв'язання на відрізку [-2, -1]\")\n",
        "    nuton(a1, b1, eps, f)\n",
        "    komb(a1, b1, eps, f)\n",
        "    print(\"\\n Розв'язання на відрізку [0, 1]\")\n",
        "    nuton(a2, b2, eps, f)\n",
        "    komb(a2, b2, eps, f)"
      ],
      "metadata": {
        "colab": {
          "base_uri": "https://localhost:8080/"
        },
        "id": "zrxTpvysf0zN",
        "outputId": "cd6fc02d-5305-49da-ff00-eca45c9c7c85"
      },
      "execution_count": 13,
      "outputs": [
        {
          "output_type": "stream",
          "name": "stdout",
          "text": [
            "Розв'язання на відрізку [-2, -1]\n",
            "Метод Ньютона, x = -1.3353\n",
            "Комбінований метод, x =  -1.3353\n",
            "\n",
            " Розв'язання на відрізку [0, 1]\n",
            "Метод Ньютона, x = 0.945\n",
            "Комбінований метод, x =  0.945\n"
          ]
        }
      ]
    },
    {
      "cell_type": "markdown",
      "source": [
        "Завдання 3. Лабораторна робота 3\n",
        "\n",
        "Тема: Відокремлення дійсних коренів рівнянь та їх уточнення методом простої ітерації."
      ],
      "metadata": {
        "id": "370aMnuwjPeK"
      }
    },
    {
      "cell_type": "code",
      "source": [
        "!pip install numdifftools"
      ],
      "metadata": {
        "colab": {
          "base_uri": "https://localhost:8080/"
        },
        "id": "Rc37HrNui3h5",
        "outputId": "202185c1-07d4-423a-afbc-d06b4b2c1633"
      },
      "execution_count": 14,
      "outputs": [
        {
          "output_type": "stream",
          "name": "stdout",
          "text": [
            "Requirement already satisfied: numdifftools in /usr/local/lib/python3.12/dist-packages (0.9.41)\n",
            "Requirement already satisfied: numpy>=1.9 in /usr/local/lib/python3.12/dist-packages (from numdifftools) (2.0.2)\n",
            "Requirement already satisfied: scipy>=0.8 in /usr/local/lib/python3.12/dist-packages (from numdifftools) (1.16.1)\n"
          ]
        }
      ]
    },
    {
      "cell_type": "code",
      "source": [
        "import numdifftools as nd"
      ],
      "metadata": {
        "id": "mCRRGRFlizK1"
      },
      "execution_count": 15,
      "outputs": []
    },
    {
      "cell_type": "markdown",
      "source": [
        "![image.png](data:image/png;base64,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)"
      ],
      "metadata": {
        "id": "Y0ltYfGxHfw-"
      }
    },
    {
      "cell_type": "markdown",
      "source": [
        "Визначаємо, що корінь належить відрізку [-2.5, -1]"
      ],
      "metadata": {
        "id": "49S6DfpDqrQZ"
      }
    },
    {
      "cell_type": "code",
      "source": [
        "def f(x: float):\n",
        "    return x**3 - 2*x + 2\n",
        "\n",
        "def fprime(x: float):\n",
        "    return nd.Derivative(f, n=1)\n",
        "\n",
        "def phi(x: float):\n",
        "    # c = -0.1 (забезпечує |phi'(x)|<1 на [-2.5,-1])\n",
        "    return x - 0.1 * f(x)\n",
        "\n",
        "def iterate_fixed_point(x0: float, iters: int = 5):\n",
        "    xs = [x0]\n",
        "    x = x0\n",
        "    for _ in range(iters):\n",
        "        x = phi(x)\n",
        "        xs.append(x)\n",
        "    return xs\n",
        "\n",
        "def error_bound(x_last: float) -> float:\n",
        "    # μ = min_{x∈[-2.5,-1]} |f'(x)| = 1\n",
        "    mu = 1.0\n",
        "    return abs(f(x_last)) / mu\n",
        "\n"
      ],
      "metadata": {
        "id": "gt8HxS1AiM0Y"
      },
      "execution_count": 16,
      "outputs": []
    },
    {
      "cell_type": "code",
      "source": [
        "def main():\n",
        "    x0 = -1.0\n",
        "    iters = 5\n",
        "    xs = iterate_fixed_point(x0, iters)\n",
        "    print(\"Fixed-point iteration for f(x) = x**3 - 2*x + 2 with phi(x) = x - 0.1*f(x)\")\n",
        "    print(f\"Interval: [-2.5, -1], start x0 = {x0}\")\n",
        "    for i, xi in enumerate(xs):\n",
        "        if i == 0:\n",
        "            print(f\"x_{i} = {xi:.10f}\")\n",
        "        else:\n",
        "            print(f\"x_{i} = phi(x_{i-1}) = {xi:.10f}\")\n",
        "    bound = error_bound(xs[-1])\n",
        "    print(\"\\nError bound after 5 iterations:  |ξ - x5| ≤ |f(x5)| / μ\")\n",
        "    print(f\"f(x5) = {f(xs[-1]):.10f},  μ = 1  ⇒  |ξ - x5| ≤ {bound:.10f}\")\n",
        "    return xs[-1], bound\n",
        "\n",
        "if __name__ == \"__main__\":\n",
        "    root_approx, bound = main()"
      ],
      "metadata": {
        "colab": {
          "base_uri": "https://localhost:8080/"
        },
        "id": "NcUIwAOAimLR",
        "outputId": "424ef9a9-dd05-4491-db73-3ca56c75ccb8"
      },
      "execution_count": 18,
      "outputs": [
        {
          "output_type": "stream",
          "name": "stdout",
          "text": [
            "Fixed-point iteration for f(x) = x**3 - 2*x + 2 with phi(x) = x - 0.1*f(x)\n",
            "Interval: [-2.5, -1], start x0 = -1.0\n",
            "x_0 = -1.0000000000\n",
            "x_1 = phi(x_0) = -1.3000000000\n",
            "x_2 = phi(x_1) = -1.5403000000\n",
            "x_3 = phi(x_2) = -1.6829201144\n",
            "x_4 = phi(x_3) = -1.7428641179\n",
            "x_5 = phi(x_4) = -1.7620288361\n",
            "\n",
            "Error bound after 5 iterations:  |ξ - x5| ≤ |f(x5)| / μ\n",
            "f(x5) = 0.0534063626,  μ = 1  ⇒  |ξ - x5| ≤ 0.0534063626\n"
          ]
        }
      ]
    },
    {
      "cell_type": "markdown",
      "source": [
        "Спрощений варіант коду\n"
      ],
      "metadata": {
        "id": "_gkwLHTNkDwS"
      }
    },
    {
      "cell_type": "code",
      "source": [
        "# Рівняння: f(x) = x^3 - 2x + 2 = 0\n",
        "# Ітераційна функція: φ(x) = x - 0.1 * f(x)  (c = -0.1)\n",
        "# Початкове наближення: x0 = -1\n",
        "# Кількість ітерацій: 5\n",
        "# Оцінка похибки: |ξ - x5| ≤ |f(x5)| / μ, де μ = min_{[-2.5,-1]} |f'(x)| = 1\n",
        "\n",
        "def f(x):\n",
        "    return x**3 - 2*x + 2\n",
        "\n",
        "def phi(x):\n",
        "    return x - 0.1 * f(x)   # c = -0.1\n",
        "\n",
        "def fixed_point(x0=-1.0, iters=5):\n",
        "    xs = [x0]\n",
        "    for _ in range(iters):\n",
        "        xs.append(phi(xs[-1]))\n",
        "    return xs\n",
        "\n",
        "# Запуск і вивід результатів\n",
        "xs = fixed_point(-1.0, 5)\n",
        "\n",
        "for i, xi in enumerate(xs):\n",
        "    print(f\"x_{i} = {xi:.10f}\")\n",
        "\n",
        "# Похибка методу простої ітерації після 5-ї ітерації\n",
        "mu = 1.0                      # μ = min_{[-2.5,-1]} |3x^2 - 2| = 1\n",
        "err_bound = abs(f(xs[-1]))/mu\n",
        "print(f\"\\nОцінка похибки: |ξ - x5| ≤ {err_bound:.10f}\")"
      ],
      "metadata": {
        "colab": {
          "base_uri": "https://localhost:8080/"
        },
        "id": "womZO91vj9vN",
        "outputId": "65416873-010d-43b1-c93d-463e72fcb956"
      },
      "execution_count": 19,
      "outputs": [
        {
          "output_type": "stream",
          "name": "stdout",
          "text": [
            "x_0 = -1.0000000000\n",
            "x_1 = -1.3000000000\n",
            "x_2 = -1.5403000000\n",
            "x_3 = -1.6829201144\n",
            "x_4 = -1.7428641179\n",
            "x_5 = -1.7620288361\n",
            "\n",
            "Оцінка похибки: |ξ - x5| ≤ 0.0534063626\n"
          ]
        }
      ]
    }
  ]
}