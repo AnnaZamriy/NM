{
  "nbformat": 4,
  "nbformat_minor": 0,
  "metadata": {
    "colab": {
      "provenance": [],
      "include_colab_link": true
    },
    "kernelspec": {
      "name": "python3",
      "display_name": "Python 3"
    },
    "language_info": {
      "name": "python"
    }
  },
  "cells": [
    {
      "cell_type": "markdown",
      "metadata": {
        "id": "view-in-github",
        "colab_type": "text"
      },
      "source": [
        "<a href=\"https://colab.research.google.com/github/AnnaZamriy/NM/blob/main/%D0%9B%D0%A02_%D0%97%D0%B0%D0%BC%D1%80%D1%96%D0%B9_2_8_%D0%923.ipynb\" target=\"_parent\"><img src=\"https://colab.research.google.com/assets/colab-badge.svg\" alt=\"Open In Colab\"/></a>"
      ]
    },
    {
      "cell_type": "markdown",
      "source": [
        "1. Метод ділення навпіл."
      ],
      "metadata": {
        "id": "VgrW9zRY0dVt"
      }
    },
    {
      "cell_type": "code",
      "execution_count": null,
      "metadata": {
        "colab": {
          "base_uri": "https://localhost:8080/"
        },
        "id": "iOTNXySVyeHy",
        "outputId": "91a78446-b6e1-447e-b57f-11445a53b1d0"
      },
      "outputs": [
        {
          "output_type": "stream",
          "name": "stdout",
          "text": [
            "Результати обчислень\n",
            "\n",
            "          a      F(a)         c      F(c)       b      F(b)\n",
            "0 -3.000000  0.977954 -2.000000  1.135204 -1.0000 -0.454649\n",
            "1 -2.000000  1.135204 -1.500000 -0.123480 -1.0000 -0.454649\n",
            "2 -2.000000  1.135204 -1.750000  0.405593 -1.5000 -0.123480\n",
            "3 -1.750000  0.405593 -1.625000  0.109040 -1.5000 -0.123480\n",
            "4 -1.625000  0.109040 -1.562500 -0.015587 -1.5000 -0.123480\n",
            "5 -1.625000  0.109040 -1.593750  0.044659 -1.5625 -0.015587\n",
            "6 -1.593750  0.044659 -1.578125  0.014015 -1.5625 -0.015587\n",
            "7 -1.578125  0.014015 -1.570312 -0.000917 -1.5625 -0.015587\n",
            "\n",
            "В точці с =  -1.5703125 , f(c) =  -0.0009171268569415665\n"
          ]
        }
      ],
      "source": [
        "import numpy as np\n",
        "import pandas as pd\n",
        "\n",
        "# Визначаємо функцію\n",
        "def f (x):\n",
        "    y = np.cos(x)*np.sin(x)*(x**2+x+1)\n",
        "    return y\n",
        "# Визначаємо границі відрізку\n",
        "a, b = -3, -1\n",
        "# Визначаємо точність розв'язку\n",
        "h = 0.001\n",
        "# Поділяємо відрізок навпіл\n",
        "c = (a+b)/2\n",
        "# Зберігаємо результати обчислень\n",
        "data_A = [a]\n",
        "data_B = [b]\n",
        "data_C = [c]\n",
        "data_F_A = [f(a)]\n",
        "data_F_B = [f(b)]\n",
        "data_F_C = [f(c)]\n",
        "# Перевіряємо досягнення точності\n",
        "while abs(f(c)) > h:\n",
        "    # Звужуємо відрізок\n",
        "    if np.sign(f(c)) == np.sign(f(a)):\n",
        "        a = c\n",
        "    else:\n",
        "        b = c\n",
        "    # Поділяємо відрізок навпіл\n",
        "    c = (a+b)/2\n",
        "    # Зберігаємо результати обчислень\n",
        "    data_A.append(a)\n",
        "    data_B.append(b)\n",
        "    data_C.append(c)\n",
        "    data_F_A.append(f(a))\n",
        "    data_F_B.append(f(b))\n",
        "    data_F_C.append(f(c))\n",
        "# Відображаємо результати обчислень\n",
        "print('Результати обчислень')\n",
        "print()\n",
        "data = pd.DataFrame({'a': data_A,\n",
        "                     'F(a)': data_F_A,\n",
        "                     'c': data_C,\n",
        "                     'F(c)': data_F_C,\n",
        "                     'b': data_B,\n",
        "                     'F(b)': data_F_B})\n",
        "print(data)\n",
        "# Відображаємо наближений корінь рівняння\n",
        "print()\n",
        "print('В точці с = ', c, ', f(c) = ', f(c))"
      ]
    },
    {
      "cell_type": "markdown",
      "source": [
        "2. Метод ділення навпіл"
      ],
      "metadata": {
        "id": "5hYa7ucn0PEN"
      }
    },
    {
      "cell_type": "code",
      "source": [
        "import numpy as np\n",
        "import scipy.optimize as sp\n",
        "\n",
        "def f(x):\n",
        "    y = np.cos(x)*np.sin(x)*(x**2+x+1)\n",
        "    return y\n",
        "\n",
        "a, b = -3, -1\n",
        "eps = 1.e-3\n",
        "\n",
        "x = sp.bisect(f, a, b,(),eps) #функція для метода\n",
        "\n",
        "print('The approximate solution x is:', x)\n",
        "print('And the value f(x) is:', f(x))"
      ],
      "metadata": {
        "colab": {
          "base_uri": "https://localhost:8080/"
        },
        "id": "ML3KEw5q0H1e",
        "outputId": "bdbc150e-92cd-4c01-b26d-212252fd162d"
      },
      "execution_count": null,
      "outputs": [
        {
          "output_type": "stream",
          "name": "stdout",
          "text": [
            "The approximate solution x is: -1.5712890625\n",
            "And the value f(x) is: 0.0009350448126615916\n"
          ]
        }
      ]
    },
    {
      "cell_type": "markdown",
      "source": [
        "3. Метод хорд"
      ],
      "metadata": {
        "id": "sYf0IvR41ufd"
      }
    },
    {
      "cell_type": "code",
      "source": [
        "import numpy as np\n",
        "import pandas as pd\n",
        "# Визначаємо функцію\n",
        "def f(x):\n",
        "    y = np.cos(x)*np.sin(x)*(x**2+x+1)\n",
        "    return y\n",
        "# Визначаємо межі відрізку\n",
        "a, b = -3, -1\n",
        "# Визначаємо точність розв'язку\n",
        "eps = 0.001\n",
        "# Точка, де хорда перетинає вісь 0x\n",
        "c = (f(a)*b-a*f(b))/(f(a)-f(b))\n",
        "\n",
        "# Зберігаємо результати обчислень\n",
        "data_A = [a]\n",
        "data_B = [b]\n",
        "data_C = [c]\n",
        "data_F_A = [f(a)]\n",
        "data_F_B = [f(b)]\n",
        "data_F_C = [f(c)]\n",
        "# Перевіряємо досягнення точності\n",
        "while abs(f(c)) > eps:\n",
        "    # Звужуємо відрізок\n",
        "    if np.sign(f(c)) == np.sign(f(a)):\n",
        "        a = c\n",
        "    else:\n",
        "        b = c\n",
        "    # Точка, де хорда перетинає вісь 0x\n",
        "    c = (f(a)*b-a*f(b))/(f(a)-f(b))\n",
        "    # Зберігаємо результати обчислень\n",
        "    data_A.append(a)\n",
        "    data_B.append(b)\n",
        "    data_C.append(c)\n",
        "    data_F_A.append(f(a))\n",
        "    data_F_B.append(f(b))\n",
        "    data_F_C.append(f(c))\n",
        "# Відображаємо результати обчислень\n",
        "print('Результати обчислень')\n",
        "print()\n",
        "data = pd.DataFrame({'a': data_A, 'F(a)': data_F_A,\n",
        "                     'c': data_C, 'F(c)': data_F_C,\n",
        "                     'b': data_B, 'F(b)': data_F_B})\n",
        "print(data)\n",
        "# Відображаємо наближений корінь рівняння\n",
        "print()\n",
        "print('В точці с = ', c, ', f(c) = ', f(c))"
      ],
      "metadata": {
        "colab": {
          "base_uri": "https://localhost:8080/"
        },
        "id": "3p6i5xHK1y3l",
        "outputId": "e412b955-a23c-4aab-9b95-67cd5633635c"
      },
      "execution_count": null,
      "outputs": [
        {
          "output_type": "stream",
          "name": "stdout",
          "text": [
            "Результати обчислень\n",
            "\n",
            "          a      F(a)         c      F(c)         b      F(b)\n",
            "0 -3.000000  0.977954 -1.634717  0.129889 -1.000000 -0.454649\n",
            "1 -1.634717  0.129889 -1.493678 -0.133455 -1.000000 -0.454649\n",
            "2 -1.634717  0.129889 -1.565152 -0.010636 -1.493678 -0.133455\n",
            "3 -1.634717  0.129889 -1.570418 -0.000718 -1.565152 -0.010636\n",
            "\n",
            "В точці с =  -1.5704175737258015 , f(c) =  -0.0007180376446871882\n"
          ]
        }
      ]
    },
    {
      "cell_type": "markdown",
      "source": [
        "4. Метод Ньютона (дотичних)"
      ],
      "metadata": {
        "id": "40blPBSK2Cdm"
      }
    },
    {
      "cell_type": "code",
      "source": [
        "import numpy as np\n",
        "import pandas as pd\n",
        "# Визначаємо функцію\n",
        "def f(x):\n",
        "    y = np.cos(x)*np.sin(x)*(x**2+x+1)\n",
        "    return y\n",
        "# Визначаємо першу похідну\n",
        "def df(x):\n",
        "    y1 = -(x**2+x+1)*(np.sin(x))**2\n",
        "    y2 = (x**2+x+1)*(np.cos(x))**2\n",
        "    y3 = (2*x+1)*np.sin(x)*np.cos(x)\n",
        "    y = y1+y2+y3\n",
        "    return y\n",
        "# Визначаємо початкову точку\n",
        "c = -1.4\n",
        "# Визначаємо точність розв'язку\n",
        "h = 0.001\n",
        "# Зберігаємо результати обчислень\n",
        "data_C = [c]\n",
        "data_F_C = [f(c)]\n",
        "# Перевіряємо досягнення точності\n",
        "while abs(f(c)) > h:\n",
        "    # Точка, де дотична перетинає вісь 0x\n",
        "    c -= f(c)/df(c)\n",
        "    # Зберігаємо результати обчислень\n",
        "    data_C.append(c)\n",
        "    data_F_C.append(f(c))\n",
        "# Відображаємо результати обчислень\n",
        "print('Результати обчислень')\n",
        "print()\n",
        "data = pd.DataFrame({'c': data_C, 'F(c)': data_F_C})\n",
        "print(data)\n",
        "# Відображаємо наближений корінь рівняння\n",
        "print()\n",
        "print('В точці с = ', c, ', f(c) = ', f(c))"
      ],
      "metadata": {
        "colab": {
          "base_uri": "https://localhost:8080/"
        },
        "id": "WeGQjbjW2HDz",
        "outputId": "15cafa1f-3c06-4768-d622-c5fe46b537a3"
      },
      "execution_count": null,
      "outputs": [
        {
          "output_type": "stream",
          "name": "stdout",
          "text": [
            "Результати обчислень\n",
            "\n",
            "          c      F(c)\n",
            "0 -1.400000 -0.261291\n",
            "1 -1.623636  0.106144\n",
            "2 -1.573564  0.005266\n",
            "3 -1.570805  0.000016\n",
            "\n",
            "В точці с =  -1.5708049170979717 , f(c) =  1.6292567852764437e-05\n"
          ]
        }
      ]
    },
    {
      "cell_type": "markdown",
      "source": [
        "5. Метод Ньютона (дотичних)"
      ],
      "metadata": {
        "id": "qjI38bTp0xCo"
      }
    },
    {
      "cell_type": "code",
      "source": [
        "import numpy as np\n",
        "import scipy.optimize as sp\n",
        "\n",
        "def f(x):\n",
        "    y = np.cos(x)*np.sin(x)*(x**2+x+1)\n",
        "    return y\n",
        "\n",
        "def df(x):# Обчислення похідної\n",
        "    y1 = -(x**2+x+1)*(np.sin(x))**2\n",
        "    y2 = (x**2+x+1)*(np.cos(x))**2\n",
        "    y3 = (2*x+1)*np.sin(x)*np.cos(x)\n",
        "    y = y1+y2+y3\n",
        "    return y\n",
        "\n",
        "x0 = -1.4\n",
        "x1 = 1.4\n",
        "\n",
        "x_0 = sp.newton(f, x0, df, tol=1.e-3, maxiter=50)\n",
        "x_1 = sp.newton(f, x1, df, tol=1.e-3, maxiter=50)\n",
        "\n",
        "print('The approximate solution x is:', x_0)\n",
        "print('And the value f(x_0) is:', f(x_0))\n",
        "\n",
        "print('The approximate solution x is:', x_1)\n",
        "print('And the value f(x_0) is:', f(x_1))"
      ],
      "metadata": {
        "colab": {
          "base_uri": "https://localhost:8080/"
        },
        "id": "AonZxq_H0m6-",
        "outputId": "54dbc0d4-2dfa-420a-f8c8-57cb2df69526"
      },
      "execution_count": null,
      "outputs": [
        {
          "output_type": "stream",
          "name": "stdout",
          "text": [
            "The approximate solution x is: -1.5707963268782201\n",
            "And the value f(x_0) is: 1.5803176499052036e-10\n",
            "The approximate solution x is: 1.5707963267958693\n",
            "And the value f(x_0) is: -4.9007361645997675e-12\n"
          ]
        }
      ]
    },
    {
      "cell_type": "markdown",
      "source": [
        " # Знаходження коренів рівняння за допомогою бібліотеки SymPy"
      ],
      "metadata": {
        "id": "pvK9N9TH1QD-"
      }
    },
    {
      "cell_type": "code",
      "source": [
        "import sympy as sym\n",
        "\n",
        "x = sym.Symbol('x')\n",
        "\n",
        "y = sym.cos(x)*sym.sin(x)*(x**2+x+1)\n",
        "\n",
        "s = sym.solve(y)\n",
        "\n",
        "print(s)"
      ],
      "metadata": {
        "colab": {
          "base_uri": "https://localhost:8080/"
        },
        "id": "PuAp1WCr08qt",
        "outputId": "4b5a283f-c791-46dd-a0d3-fca32adcd44b"
      },
      "execution_count": null,
      "outputs": [
        {
          "output_type": "stream",
          "name": "stdout",
          "text": [
            "[0, pi/2, pi, 3*pi/2, -1/2 - sqrt(3)*I/2, -1/2 + sqrt(3)*I/2]\n"
          ]
        }
      ]
    },
    {
      "cell_type": "code",
      "source": [
        "import sympy as sym\n",
        "\n",
        "x, a, b, c = sym.symbols('x, a, b, c')\n",
        "\n",
        "y = a * x**2 + b * x + c\n",
        "\n",
        "s = sym.solve(y, x)\n",
        "\n",
        "print(s)"
      ],
      "metadata": {
        "colab": {
          "base_uri": "https://localhost:8080/"
        },
        "id": "Y0d-uHtp1c7r",
        "outputId": "f59932af-63a1-4d43-fdbc-a0e7ea68e15b"
      },
      "execution_count": null,
      "outputs": [
        {
          "output_type": "stream",
          "name": "stdout",
          "text": [
            "[(-b - sqrt(-4*a*c + b**2))/(2*a), (-b + sqrt(-4*a*c + b**2))/(2*a)]\n"
          ]
        }
      ]
    },
    {
      "cell_type": "markdown",
      "source": [],
      "metadata": {
        "id": "mk1oBvYj1GC2"
      }
    },
    {
      "cell_type": "code",
      "source": [
        "!pip install numdifftools"
      ],
      "metadata": {
        "colab": {
          "base_uri": "https://localhost:8080/"
        },
        "id": "yiLJNuM3Cq0-",
        "outputId": "61b62161-cea5-48ff-d448-d945ef10afd4"
      },
      "execution_count": null,
      "outputs": [
        {
          "output_type": "stream",
          "name": "stdout",
          "text": [
            "Collecting numdifftools\n",
            "  Downloading numdifftools-0.9.41-py2.py3-none-any.whl.metadata (39 kB)\n",
            "Requirement already satisfied: numpy>=1.9 in /usr/local/lib/python3.12/dist-packages (from numdifftools) (2.0.2)\n",
            "Requirement already satisfied: scipy>=0.8 in /usr/local/lib/python3.12/dist-packages (from numdifftools) (1.16.1)\n",
            "Downloading numdifftools-0.9.41-py2.py3-none-any.whl (100 kB)\n",
            "\u001b[?25l   \u001b[90m━━━━━━━━━━━━━━━━━━━━━━━━━━━━━━━━━━━━━━━━\u001b[0m \u001b[32m0.0/100.2 kB\u001b[0m \u001b[31m?\u001b[0m eta \u001b[36m-:--:--\u001b[0m\r\u001b[2K   \u001b[90m━━━━━━━━━━━━━━━━━━━━━━━━━━━━━━━━━━━━━━━━\u001b[0m \u001b[32m100.2/100.2 kB\u001b[0m \u001b[31m5.5 MB/s\u001b[0m eta \u001b[36m0:00:00\u001b[0m\n",
            "\u001b[?25hInstalling collected packages: numdifftools\n",
            "Successfully installed numdifftools-0.9.41\n"
          ]
        }
      ]
    },
    {
      "cell_type": "code",
      "source": [
        "#Лабораторна робота 2\n",
        "#Варіант 3\n",
        "#Відокремлення коренів\n",
        "import numpy as np\n",
        "import numdifftools as nd\n",
        "\n",
        "def f(x):\n",
        "    return 6*x**4 + 4*x**3 + x**2 + x - 10\n",
        "\n",
        "\n",
        "def find_segments(): #відокремлюємо корені\n",
        "    search_range = np.arange(-5, 5, 1)\n",
        "\n",
        "    a = None\n",
        "    previous_x = None\n",
        "    current_x  = None\n",
        "    segments = []\n",
        "\n",
        "    for x in search_range:\n",
        "        x = round(x, 4)\n",
        "        current_x = f(x)\n",
        "        if previous_x != None and previous_x * current_x < 0:\n",
        "            segments.append((a, x))\n",
        "        a = x\n",
        "        previous_x = current_x\n",
        "    return segments\n",
        "\n",
        "segments = find_segments()\n",
        "for a, b in segments:\n",
        "    print(f'Found segment:  [{a}, {b}]')\n"
      ],
      "metadata": {
        "colab": {
          "base_uri": "https://localhost:8080/"
        },
        "id": "L-9dn4npCso-",
        "outputId": "8cad21e6-dff0-419f-ecdd-88b54a22e29f"
      },
      "execution_count": null,
      "outputs": [
        {
          "output_type": "stream",
          "name": "stdout",
          "text": [
            "Found segment:  [-2, -1]\n",
            "Found segment:  [0, 1]\n"
          ]
        }
      ]
    },
    {
      "cell_type": "code",
      "source": [
        "import numpy as np\n",
        "import matplotlib.pyplot as plt\n",
        "\n",
        "# Визначення функції\n",
        "def f(x):\n",
        "    return 6*x**4 + 4*x**3 + x**2 + x - 10\n",
        "\n",
        "# Генерація значень x\n",
        "x = np.linspace(-3, 3, 100)\n",
        "\n",
        "# Генерація значень y\n",
        "y = f(x)\n",
        "\n",
        "# Побудова графіка\n",
        "plt.figure(figsize=(8, 6))\n",
        "plt.plot(x, y, label='6*x**4 + 4*x**3 + x**2 + x - 10', color='blue')\n",
        "plt.title('Графік функції 6*x**4 + 4*x**3 + x**2 + x - 10')\n",
        "plt.xlabel('x')\n",
        "plt.ylabel('f(x)')\n",
        "\n",
        "# Додавання осей з стрілками\n",
        "plt.axhline(0, color='black', linewidth=0.5)\n",
        "plt.axvline(0, color='black', linewidth=0.5)\n",
        "\n",
        "plt.text(2.05, -4, 'x', ha='center', va='center')\n",
        "plt.text(-0.3, 190, 'y', ha='center', va='center')\n",
        "\n",
        "plt.grid(True)\n",
        "plt.legend()\n",
        "plt.show()\n"
      ],
      "metadata": {
        "colab": {
          "base_uri": "https://localhost:8080/",
          "height": 564
        },
        "id": "7zUI3d1xZXar",
        "outputId": "840a7f58-02be-45b1-f609-5ae1b02679f0"
      },
      "execution_count": null,
      "outputs": [
        {
          "output_type": "display_data",
          "data": {
            "text/plain": [
              "<Figure size 800x600 with 1 Axes>"
            ],
            "image/png": "[encoded data removed]"
          },
          "metadata": {}
        }
      ]
    },
    {
      "cell_type": "markdown",
      "source": [
        "![image.png](data:image/png;base64,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)"
      ],
      "metadata": {
        "id": "6bpUlo3zJteb"
      }
    },
    {
      "cell_type": "code",
      "source": [
        "#Лабораторна робота. Метод половинного ділення, хорд\n",
        "\n",
        "\n",
        "def rec(a, b, eps):  # метод половинного ділення\n",
        "    while (abs(a - b) > eps):\n",
        "        if f(a) * f((a + b) / 2) < 0:\n",
        "            b = (a + b) / 2\n",
        "        else:\n",
        "            a = (a + b) / 2\n",
        "        x = (a + b) / 2\n",
        "\n",
        "    print('x= ', round(x, 5), '  -   Half division method')\n"
      ],
      "metadata": {
        "id": "BgjK94O9Cfxe"
      },
      "execution_count": null,
      "outputs": []
    },
    {
      "cell_type": "code",
      "source": [
        "def hord(a, b, eps):  # метод хорд\n",
        "    derivative_f = nd.Derivative(f, n=2)\n",
        "    if f(a) * derivative_f(a) > 0:\n",
        "        x0 = a\n",
        "        xi = b\n",
        "    else:\n",
        "        x0 = b\n",
        "        xi = a\n",
        "    xi_1 = xi - (xi - x0) * f(xi) / (f(xi) - f(x0))\n",
        "    while (abs(xi_1 - xi) > eps):\n",
        "        xi = xi_1\n",
        "        xi_1 = xi - (xi - x0) * f(xi) / (f(xi) - f(x0))\n",
        "    print('x= ', round(xi_1, 5), '  -   Chord method')\n"
      ],
      "metadata": {
        "id": "Sz_KWVf7D2tL"
      },
      "execution_count": null,
      "outputs": []
    },
    {
      "cell_type": "code",
      "source": [
        "if __name__ == \"__main__\":\n",
        "    a1, b1 = -2, -1\n",
        "    a2, b2 = 0, 1\n",
        "    eps = 0.001\n",
        "    print(\"Розв'язки на відрізку [-2,-1]\")\n",
        "    rec(a1, b1, eps)\n",
        "    hord(a1, b1, eps)\n",
        "    print(\"\\n Розв'язки на відрізку [0,1]\")\n",
        "    rec(a2, b2, eps)\n",
        "    hord(a2, b2, eps)"
      ],
      "metadata": {
        "id": "upx7R4yoFZj_",
        "outputId": "7d0fcfa3-3aab-4f49-8066-0ff8e4a39c80",
        "colab": {
          "base_uri": "https://localhost:8080/"
        }
      },
      "execution_count": null,
      "outputs": [
        {
          "output_type": "stream",
          "name": "stdout",
          "text": [
            "Розв'язки на відрізку [-2,-1]\n",
            "x=  -1.33545   -   Half division method\n",
            "x=  -1.3346   -   Chord method\n",
            "\n",
            " Розв'язки на відрізку [0,1]\n",
            "x=  0.94482   -   Half division method\n",
            "x=  0.945   -   Chord method\n"
          ]
        }
      ]
    },
    {
      "cell_type": "code",
      "source": [
        "#Лабораторна робота 3. Метод Ньютона (дотичних). Комбінований метод\n",
        "\n",
        "def nuton(a, b, eps, f):\n",
        "    df2 = nd.Derivative(f, n=2)(b)  # Отримуємо значення похідної другого порядку в точці b\n",
        "    if f(b) * df2 > 0:\n",
        "        xi = b\n",
        "    else:\n",
        "        xi = a\n",
        "    df = nd.Derivative(f, n=1)(xi)  # Отримуємо значення похідної першого порядку в точці xi\n",
        "    xi_1 = xi - f(xi) / df\n",
        "    while abs(xi_1 - xi) > eps:  # перевіряємо точність\n",
        "        xi = xi_1\n",
        "        xi_1 = xi - f(xi) / df\n",
        "    print('Метод Ньютона, x = ', xi_1.round(4))\n"
      ],
      "metadata": {
        "id": "uz6OF8g2C-vY"
      },
      "execution_count": null,
      "outputs": []
    },
    {
      "cell_type": "code",
      "source": [
        "def komb(a, b, eps, f):\n",
        "    df2 = nd.Derivative(f, n=2)(a)\n",
        "    if f(a) * df2 > 0:\n",
        "        a0 = a\n",
        "        b0 = b\n",
        "    else:\n",
        "        a0 = b\n",
        "        b0 = a\n",
        "    ai = a0\n",
        "    bi = b0\n",
        "    while abs(ai - bi) > eps:\n",
        "        ai_1 = ai - f(ai) * (bi - ai) / (f(bi) - f(ai))\n",
        "        bi_1 = bi - f(bi) / nd.Derivative(f, n=1)(bi)\n",
        "        ai = ai_1\n",
        "        bi = bi_1\n",
        "    x = (ai_1 + bi_1) / 2\n",
        "\n",
        "    print('Комбінований метод, x = ', x.round(4))\n"
      ],
      "metadata": {
        "id": "M2T4FA4ifyy_"
      },
      "execution_count": null,
      "outputs": []
    },
    {
      "cell_type": "code",
      "source": [
        "if __name__ == \"__main__\":\n",
        "    a1, b1 = -2, -1\n",
        "    a2, b2 = 0, 1\n",
        "    eps = 0.001\n",
        "\n",
        "    print(\"Розв'язання на відрізку [-2, -1]\")\n",
        "    nuton(a1, b1, eps, f)\n",
        "    komb(a1, b1, eps, f)\n",
        "    print(\"\\n Розв'язання на відрізку [0, 1]\")\n",
        "    nuton(a2, b2, eps, f)\n",
        "    komb(a2, b2, eps, f)"
      ],
      "metadata": {
        "colab": {
          "base_uri": "https://localhost:8080/"
        },
        "id": "zrxTpvysf0zN",
        "outputId": "0e1afa74-0294-41c2-a7bc-28169da1aafc"
      },
      "execution_count": null,
      "outputs": [
        {
          "output_type": "stream",
          "name": "stdout",
          "text": [
            "Розв'язання на відрізку [-2, -1]\n",
            "Метод Ньютона, x =  -1.3479\n",
            "Комбінований метод, x =  -1.3447\n",
            "\n",
            " Розв'язання на відрізку [0, 1]\n",
            "Метод Ньютона, x =  0.7915\n",
            "Комбінований метод, x =  0.7909\n"
          ]
        }
      ]
    }
  ]
}